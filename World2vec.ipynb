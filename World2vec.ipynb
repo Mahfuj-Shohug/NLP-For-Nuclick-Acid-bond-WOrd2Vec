{
 "cells": [
  {
   "cell_type": "code",
   "execution_count": 1,
   "metadata": {},
   "outputs": [
    {
     "name": "stderr",
     "output_type": "stream",
     "text": [
      "D:\\Anaconda\\lib\\site-packages\\gensim\\similarities\\__init__.py:15: UserWarning: The gensim.similarities.levenshtein submodule is disabled, because the optional Levenshtein package <https://pypi.org/project/python-Levenshtein/> is unavailable. Install Levenhstein (e.g. `pip install python-Levenshtein`) to suppress this warning.\n",
      "  warnings.warn(msg)\n"
     ]
    }
   ],
   "source": [
    "import nltk\n",
    "from gensim.models import Word2Vec\n",
    "from nltk.corpus import stopwords\n",
    "import re"
   ]
  },
  {
   "cell_type": "code",
   "execution_count": 2,
   "metadata": {},
   "outputs": [],
   "source": [
    "para = \"\"\"SNSTRLPEASQAHVRVSPGQAAPAMARPRRSRH\"\"\""
   ]
  },
  {
   "cell_type": "code",
   "execution_count": 7,
   "metadata": {},
   "outputs": [],
   "source": [
    "# Preprocessing the data\n",
    "text = re.sub(r'\\[[0-9]*\\]',' ',para)\n",
    "text = re.sub(r'\\s+',' ',text)\n",
    "text = text.upper()\n",
    "text = re.sub(r'\\d',' ',text)\n",
    "text = re.sub(r'\\s+',' ',text)"
   ]
  },
  {
   "cell_type": "code",
   "execution_count": 8,
   "metadata": {},
   "outputs": [
    {
     "data": {
      "text/plain": [
       "'SNSTRLPEASQAHVRVSPGQAAPAMARPRRSRH'"
      ]
     },
     "execution_count": 8,
     "metadata": {},
     "output_type": "execute_result"
    }
   ],
   "source": [
    "text"
   ]
  },
  {
   "cell_type": "code",
   "execution_count": 9,
   "metadata": {},
   "outputs": [
    {
     "name": "stdout",
     "output_type": "stream",
     "text": [
      "showing info https://raw.githubusercontent.com/nltk/nltk_data/gh-pages/index.xml\n"
     ]
    }
   ],
   "source": [
    "# Preparing the dataset\n",
    "nltk.download()\n",
    "sentences = nltk.sent_tokenize(text)"
   ]
  },
  {
   "cell_type": "code",
   "execution_count": 10,
   "metadata": {},
   "outputs": [
    {
     "data": {
      "text/plain": [
       "['SNSTRLPEASQAHVRVSPGQAAPAMARPRRSRH']"
      ]
     },
     "execution_count": 10,
     "metadata": {},
     "output_type": "execute_result"
    }
   ],
   "source": [
    "sentences"
   ]
  },
  {
   "cell_type": "code",
   "execution_count": 11,
   "metadata": {},
   "outputs": [],
   "source": [
    "sentences = [nltk.word_tokenize(sentence) for sentence in sentences]"
   ]
  },
  {
   "cell_type": "code",
   "execution_count": 12,
   "metadata": {},
   "outputs": [
    {
     "data": {
      "text/plain": [
       "[['SNSTRLPEASQAHVRVSPGQAAPAMARPRRSRH']]"
      ]
     },
     "execution_count": 12,
     "metadata": {},
     "output_type": "execute_result"
    }
   ],
   "source": [
    "sentences"
   ]
  },
  {
   "cell_type": "code",
   "execution_count": 13,
   "metadata": {},
   "outputs": [],
   "source": [
    "for i in range(len(sentences)):\n",
    "    sentences[i] = [word for word in sentences[i] if word not in stopwords.words('english')]"
   ]
  },
  {
   "cell_type": "code",
   "execution_count": 14,
   "metadata": {},
   "outputs": [],
   "source": [
    "# Training the Word2Vec model\n",
    "model = Word2Vec(sentences, min_count=1)"
   ]
  },
  {
   "cell_type": "code",
   "execution_count": 15,
   "metadata": {},
   "outputs": [],
   "source": [
    "# words = model.wv.vocab\n",
    "words = list(model.wv.index_to_key)"
   ]
  },
  {
   "cell_type": "code",
   "execution_count": 20,
   "metadata": {},
   "outputs": [],
   "source": [
    "list_of_letters = list(words)"
   ]
  },
  {
   "cell_type": "code",
   "execution_count": 21,
   "metadata": {},
   "outputs": [
    {
     "data": {
      "text/plain": [
       "['SNSTRLPEASQAHVRVSPGQAAPAMARPRRSRH']"
      ]
     },
     "execution_count": 21,
     "metadata": {},
     "output_type": "execute_result"
    }
   ],
   "source": [
    "list_of_letters"
   ]
  },
  {
   "cell_type": "code",
   "execution_count": 23,
   "metadata": {},
   "outputs": [],
   "source": [
    "# Training the Word2Vec model\n",
    "model = Word2Vec(list_of_letters, min_count=1)"
   ]
  },
  {
   "cell_type": "code",
   "execution_count": 24,
   "metadata": {},
   "outputs": [
    {
     "data": {
      "text/plain": [
       "array([ 9.4563962e-05,  3.0773187e-03, -6.8126465e-03, -1.3754654e-03,\n",
       "        7.6685809e-03,  7.3464084e-03, -3.6732983e-03,  2.6427007e-03,\n",
       "       -8.3171297e-03,  6.2054847e-03, -4.6373224e-03, -3.1641079e-03,\n",
       "        9.3113566e-03,  8.7338447e-04,  7.4907015e-03, -6.0740639e-03,\n",
       "        5.1605059e-03,  9.9228211e-03, -8.4573915e-03, -5.1356913e-03,\n",
       "       -7.0648384e-03, -4.8626517e-03, -3.7785650e-03, -8.5362010e-03,\n",
       "        7.9556061e-03, -4.8439382e-03,  8.4236125e-03,  5.2625705e-03,\n",
       "       -6.5500261e-03,  3.9578700e-03,  5.4701497e-03, -7.4265362e-03,\n",
       "       -7.4057197e-03, -2.4752307e-03, -8.6257271e-03, -1.5815735e-03,\n",
       "       -4.0343284e-04,  3.2996845e-03,  1.4418793e-03, -8.8142155e-04,\n",
       "       -5.5940580e-03,  1.7303658e-03, -8.9737179e-04,  6.7936899e-03,\n",
       "        3.9735888e-03,  4.5294715e-03,  1.4343048e-03, -2.6998566e-03,\n",
       "       -4.3668128e-03, -1.0320758e-03,  1.4370275e-03, -2.6460099e-03,\n",
       "       -7.0737838e-03, -7.8053069e-03, -9.1217877e-03, -5.9351707e-03,\n",
       "       -1.8474245e-03, -4.3238713e-03, -6.4606713e-03, -3.7173224e-03,\n",
       "        4.2891572e-03, -3.7390448e-03,  8.3781742e-03,  1.5339922e-03,\n",
       "       -7.2423196e-03,  9.4337985e-03,  7.6312111e-03,  5.4932809e-03,\n",
       "       -6.8488456e-03,  5.8226776e-03,  4.0090918e-03,  5.1853680e-03,\n",
       "        4.2559002e-03,  1.9397545e-03, -3.1701636e-03,  8.3538434e-03,\n",
       "        9.6121784e-03,  3.7926030e-03, -2.8369951e-03,  7.1263312e-06,\n",
       "        1.2188172e-03, -8.4583256e-03, -8.2239462e-03, -2.3101569e-04,\n",
       "        1.2372875e-03, -5.7433820e-03, -4.7252751e-03, -7.3460746e-03,\n",
       "        8.3286138e-03,  1.2129784e-04, -4.5093987e-03,  5.7017040e-03,\n",
       "        9.1800140e-03, -4.0998720e-03,  7.9646800e-03,  5.3754328e-03,\n",
       "        5.8791232e-03,  5.1259040e-04,  8.2130842e-03, -7.0190406e-03],\n",
       "      dtype=float32)"
      ]
     },
     "execution_count": 24,
     "metadata": {},
     "output_type": "execute_result"
    }
   ],
   "source": [
    "vector = model.wv['S']\n",
    "vector"
   ]
  },
  {
   "cell_type": "code",
   "execution_count": 25,
   "metadata": {},
   "outputs": [],
   "source": [
    "similar = model.wv.most_similar('S')"
   ]
  },
  {
   "cell_type": "code",
   "execution_count": 26,
   "metadata": {},
   "outputs": [
    {
     "data": {
      "text/plain": [
       "[('G', 0.1991206258535385),\n",
       " ('T', 0.17272792756557465),\n",
       " ('V', 0.1702079176902771),\n",
       " ('Q', 0.14595063030719757),\n",
       " ('H', 0.06408364325761795),\n",
       " ('N', 0.04652620479464531),\n",
       " ('M', -0.0027540072333067656),\n",
       " ('P', -0.01350112073123455),\n",
       " ('R', -0.02360653504729271),\n",
       " ('E', -0.03285214677453041)]"
      ]
     },
     "execution_count": 26,
     "metadata": {},
     "output_type": "execute_result"
    }
   ],
   "source": [
    "similar"
   ]
  },
  {
   "cell_type": "markdown",
   "metadata": {},
   "source": [
    "## Md: Mahfuj Hasan Shohug \n",
    "## id: 181-35-2376"
   ]
  },
  {
   "cell_type": "code",
   "execution_count": null,
   "metadata": {},
   "outputs": [],
   "source": []
  }
 ],
 "metadata": {
  "kernelspec": {
   "display_name": "Python 3",
   "language": "python",
   "name": "python3"
  },
  "language_info": {
   "codemirror_mode": {
    "name": "ipython",
    "version": 3
   },
   "file_extension": ".py",
   "mimetype": "text/x-python",
   "name": "python",
   "nbconvert_exporter": "python",
   "pygments_lexer": "ipython3",
   "version": "3.8.5"
  }
 },
 "nbformat": 4,
 "nbformat_minor": 4
}
